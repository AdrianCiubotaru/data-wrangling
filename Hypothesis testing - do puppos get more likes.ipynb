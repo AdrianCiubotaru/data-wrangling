{
 "cells": [
  {
   "cell_type": "markdown",
   "metadata": {},
   "source": [
    "# Are puppos the most liked dogs?\n",
    "\n",
    "This jupyter notebook sets to explore if there is any statistical significance in the difference between the favorite counts of puppos and that of other dogs. The project will "
   ]
  },
  {
   "cell_type": "code",
   "execution_count": 13,
   "metadata": {
    "collapsed": true
   },
   "outputs": [],
   "source": [
    "import pandas as pd\n",
    "import numpy as np\n",
    "import random\n",
    "import matplotlib.pyplot as plt\n",
    "%matplotlib inline\n",
    "from scipy import stats"
   ]
  },
  {
   "cell_type": "markdown",
   "metadata": {},
   "source": [
    "#### Reading The data frame"
   ]
  },
  {
   "cell_type": "code",
   "execution_count": 3,
   "metadata": {},
   "outputs": [
    {
     "data": {
      "text/html": [
       "<div>\n",
       "<style scoped>\n",
       "    .dataframe tbody tr th:only-of-type {\n",
       "        vertical-align: middle;\n",
       "    }\n",
       "\n",
       "    .dataframe tbody tr th {\n",
       "        vertical-align: top;\n",
       "    }\n",
       "\n",
       "    .dataframe thead th {\n",
       "        text-align: right;\n",
       "    }\n",
       "</style>\n",
       "<table border=\"1\" class=\"dataframe\">\n",
       "  <thead>\n",
       "    <tr style=\"text-align: right;\">\n",
       "      <th></th>\n",
       "      <th>id_str</th>\n",
       "      <th>created_at</th>\n",
       "      <th>source</th>\n",
       "      <th>full_text</th>\n",
       "      <th>expanded_url</th>\n",
       "      <th>rating_numerator</th>\n",
       "      <th>rating_denominator</th>\n",
       "      <th>name</th>\n",
       "      <th>doggo</th>\n",
       "      <th>floofer</th>\n",
       "      <th>...</th>\n",
       "      <th>p1_dog</th>\n",
       "      <th>p2</th>\n",
       "      <th>p2_conf</th>\n",
       "      <th>p2_dog</th>\n",
       "      <th>p3</th>\n",
       "      <th>p3_conf</th>\n",
       "      <th>p3_dog</th>\n",
       "      <th>has_name</th>\n",
       "      <th>has_stage</th>\n",
       "      <th>rating</th>\n",
       "    </tr>\n",
       "  </thead>\n",
       "  <tbody>\n",
       "    <tr>\n",
       "      <th>0</th>\n",
       "      <td>892420643555336193</td>\n",
       "      <td>2017-08-01 16:23:56</td>\n",
       "      <td>&lt;a href=\"http://twitter.com/download/iphone\" r...</td>\n",
       "      <td>This is Phineas. He's a mystical boy. Only eve...</td>\n",
       "      <td>https://twitter.com/dog_rates/status/892420643...</td>\n",
       "      <td>13.0</td>\n",
       "      <td>10.0</td>\n",
       "      <td>Phineas</td>\n",
       "      <td>0</td>\n",
       "      <td>0</td>\n",
       "      <td>...</td>\n",
       "      <td>False</td>\n",
       "      <td>bagel</td>\n",
       "      <td>0.085851</td>\n",
       "      <td>False</td>\n",
       "      <td>banana</td>\n",
       "      <td>0.076110</td>\n",
       "      <td>False</td>\n",
       "      <td>1</td>\n",
       "      <td>0</td>\n",
       "      <td>1.3</td>\n",
       "    </tr>\n",
       "    <tr>\n",
       "      <th>1</th>\n",
       "      <td>892177421306343426</td>\n",
       "      <td>2017-08-01 00:17:27</td>\n",
       "      <td>&lt;a href=\"http://twitter.com/download/iphone\" r...</td>\n",
       "      <td>This is Tilly. She's just checking pup on you....</td>\n",
       "      <td>https://twitter.com/dog_rates/status/892177421...</td>\n",
       "      <td>13.0</td>\n",
       "      <td>10.0</td>\n",
       "      <td>Tilly</td>\n",
       "      <td>0</td>\n",
       "      <td>0</td>\n",
       "      <td>...</td>\n",
       "      <td>True</td>\n",
       "      <td>Pekinese</td>\n",
       "      <td>0.090647</td>\n",
       "      <td>True</td>\n",
       "      <td>papillon</td>\n",
       "      <td>0.068957</td>\n",
       "      <td>True</td>\n",
       "      <td>1</td>\n",
       "      <td>1</td>\n",
       "      <td>1.3</td>\n",
       "    </tr>\n",
       "    <tr>\n",
       "      <th>2</th>\n",
       "      <td>891815181378084864</td>\n",
       "      <td>2017-07-31 00:18:03</td>\n",
       "      <td>&lt;a href=\"http://twitter.com/download/iphone\" r...</td>\n",
       "      <td>This is Archie. He is a rare Norwegian Pouncin...</td>\n",
       "      <td>https://twitter.com/dog_rates/status/891815181...</td>\n",
       "      <td>12.0</td>\n",
       "      <td>10.0</td>\n",
       "      <td>Archie</td>\n",
       "      <td>0</td>\n",
       "      <td>0</td>\n",
       "      <td>...</td>\n",
       "      <td>True</td>\n",
       "      <td>malamute</td>\n",
       "      <td>0.078253</td>\n",
       "      <td>True</td>\n",
       "      <td>kelpie</td>\n",
       "      <td>0.031379</td>\n",
       "      <td>True</td>\n",
       "      <td>1</td>\n",
       "      <td>0</td>\n",
       "      <td>1.2</td>\n",
       "    </tr>\n",
       "    <tr>\n",
       "      <th>3</th>\n",
       "      <td>891689557279858688</td>\n",
       "      <td>2017-07-30 15:58:51</td>\n",
       "      <td>&lt;a href=\"http://twitter.com/download/iphone\" r...</td>\n",
       "      <td>This is Darla. She commenced a snooze mid meal...</td>\n",
       "      <td>https://twitter.com/dog_rates/status/891689557...</td>\n",
       "      <td>13.0</td>\n",
       "      <td>10.0</td>\n",
       "      <td>Darla</td>\n",
       "      <td>0</td>\n",
       "      <td>0</td>\n",
       "      <td>...</td>\n",
       "      <td>False</td>\n",
       "      <td>Labrador_retriever</td>\n",
       "      <td>0.168086</td>\n",
       "      <td>True</td>\n",
       "      <td>spatula</td>\n",
       "      <td>0.040836</td>\n",
       "      <td>False</td>\n",
       "      <td>1</td>\n",
       "      <td>0</td>\n",
       "      <td>1.3</td>\n",
       "    </tr>\n",
       "    <tr>\n",
       "      <th>4</th>\n",
       "      <td>891327558926688256</td>\n",
       "      <td>2017-07-29 16:00:24</td>\n",
       "      <td>&lt;a href=\"http://twitter.com/download/iphone\" r...</td>\n",
       "      <td>This is Franklin. He would like you to stop ca...</td>\n",
       "      <td>https://twitter.com/dog_rates/status/891327558...</td>\n",
       "      <td>12.0</td>\n",
       "      <td>10.0</td>\n",
       "      <td>Franklin</td>\n",
       "      <td>0</td>\n",
       "      <td>0</td>\n",
       "      <td>...</td>\n",
       "      <td>True</td>\n",
       "      <td>English_springer</td>\n",
       "      <td>0.225770</td>\n",
       "      <td>True</td>\n",
       "      <td>German_short-haired_pointer</td>\n",
       "      <td>0.175219</td>\n",
       "      <td>True</td>\n",
       "      <td>1</td>\n",
       "      <td>0</td>\n",
       "      <td>1.2</td>\n",
       "    </tr>\n",
       "  </tbody>\n",
       "</table>\n",
       "<p>5 rows × 28 columns</p>\n",
       "</div>"
      ],
      "text/plain": [
       "               id_str           created_at  \\\n",
       "0  892420643555336193  2017-08-01 16:23:56   \n",
       "1  892177421306343426  2017-08-01 00:17:27   \n",
       "2  891815181378084864  2017-07-31 00:18:03   \n",
       "3  891689557279858688  2017-07-30 15:58:51   \n",
       "4  891327558926688256  2017-07-29 16:00:24   \n",
       "\n",
       "                                              source  \\\n",
       "0  <a href=\"http://twitter.com/download/iphone\" r...   \n",
       "1  <a href=\"http://twitter.com/download/iphone\" r...   \n",
       "2  <a href=\"http://twitter.com/download/iphone\" r...   \n",
       "3  <a href=\"http://twitter.com/download/iphone\" r...   \n",
       "4  <a href=\"http://twitter.com/download/iphone\" r...   \n",
       "\n",
       "                                           full_text  \\\n",
       "0  This is Phineas. He's a mystical boy. Only eve...   \n",
       "1  This is Tilly. She's just checking pup on you....   \n",
       "2  This is Archie. He is a rare Norwegian Pouncin...   \n",
       "3  This is Darla. She commenced a snooze mid meal...   \n",
       "4  This is Franklin. He would like you to stop ca...   \n",
       "\n",
       "                                        expanded_url  rating_numerator  \\\n",
       "0  https://twitter.com/dog_rates/status/892420643...              13.0   \n",
       "1  https://twitter.com/dog_rates/status/892177421...              13.0   \n",
       "2  https://twitter.com/dog_rates/status/891815181...              12.0   \n",
       "3  https://twitter.com/dog_rates/status/891689557...              13.0   \n",
       "4  https://twitter.com/dog_rates/status/891327558...              12.0   \n",
       "\n",
       "   rating_denominator      name  doggo  floofer  ...    p1_dog  \\\n",
       "0                10.0   Phineas      0        0  ...     False   \n",
       "1                10.0     Tilly      0        0  ...      True   \n",
       "2                10.0    Archie      0        0  ...      True   \n",
       "3                10.0     Darla      0        0  ...     False   \n",
       "4                10.0  Franklin      0        0  ...      True   \n",
       "\n",
       "                   p2   p2_conf  p2_dog                           p3  \\\n",
       "0               bagel  0.085851   False                       banana   \n",
       "1            Pekinese  0.090647    True                     papillon   \n",
       "2            malamute  0.078253    True                       kelpie   \n",
       "3  Labrador_retriever  0.168086    True                      spatula   \n",
       "4    English_springer  0.225770    True  German_short-haired_pointer   \n",
       "\n",
       "    p3_conf p3_dog  has_name  has_stage rating  \n",
       "0  0.076110  False         1          0    1.3  \n",
       "1  0.068957   True         1          1    1.3  \n",
       "2  0.031379   True         1          0    1.2  \n",
       "3  0.040836  False         1          0    1.3  \n",
       "4  0.175219   True         1          0    1.2  \n",
       "\n",
       "[5 rows x 28 columns]"
      ]
     },
     "execution_count": 3,
     "metadata": {},
     "output_type": "execute_result"
    }
   ],
   "source": [
    "df = pd.read_csv('copy_twitter_archive_master.csv')\n",
    "df.head()"
   ]
  },
  {
   "cell_type": "markdown",
   "metadata": {},
   "source": [
    "#### Checking which dog stage has the highest favorite count"
   ]
  },
  {
   "cell_type": "code",
   "execution_count": 42,
   "metadata": {},
   "outputs": [
    {
     "data": {
      "text/plain": [
       "Index(['id_str', 'created_at', 'source', 'full_text', 'expanded_url',\n",
       "       'rating_numerator', 'rating_denominator', 'name', 'doggo', 'floofer',\n",
       "       'pupper', 'puppo', 'favorite_count', 'retweet_count', 'jpg_url',\n",
       "       'img_num', 'p1', 'p1_conf', 'p1_dog', 'p2', 'p2_conf', 'p2_dog', 'p3',\n",
       "       'p3_conf', 'p3_dog', 'has_name', 'has_stage', 'rating'],\n",
       "      dtype='object')"
      ]
     },
     "execution_count": 42,
     "metadata": {},
     "output_type": "execute_result"
    }
   ],
   "source": [
    "df.columns"
   ]
  },
  {
   "cell_type": "code",
   "execution_count": 47,
   "metadata": {},
   "outputs": [
    {
     "name": "stdout",
     "output_type": "stream",
     "text": [
      "doggos have an average favorite count of 10518.550432276657\n",
      "floofers have an average favorite count of 8333.935483870968\n",
      "puppers have an average favorite count of 7696.836734693878\n",
      "puppos have an average favorite count of 22847.26923076923\n"
     ]
    }
   ],
   "source": [
    "for col in ['doggo', 'floofer', 'pupper', 'puppo']:\n",
    "    print('{}s have an average favorite count of {}'.format(col, df.query(col + ' == 1')['favorite_count'].mean()))"
   ]
  },
  {
   "cell_type": "markdown",
   "metadata": {},
   "source": [
    "#### Setting up the hypothesis test\n",
    "H0: puppos have the same or lower favorite count than all dogs<br>\n",
    "H1: puppos have a higher favorite count than all dogs"
   ]
  },
  {
   "cell_type": "markdown",
   "metadata": {},
   "source": [
    "To test my hypothesis, I will bootstrap my data and observe what proportion of differences are greater than the actual value from my sample, which is the same as the p-value."
   ]
  },
  {
   "cell_type": "code",
   "execution_count": 123,
   "metadata": {},
   "outputs": [],
   "source": [
    "sample_data = df.sample(500, replace = True)  # creating the initial sample\n",
    "# initializing the arrays that will \n",
    "dogs_fc = []\n",
    "puppos_fc = []\n",
    "fc_diff = []\n",
    "for i in range(10000):\n",
    "    boot = sample_data.sample(500, replace = True)\n",
    "    puppo_fc = boot.query('puppo == 1')['favorite_count'].mean()  # the mean favorite count of puppos in a given simulation\n",
    "    dog_fc = boot.query('puppo == 0')['favorite_count'].mean()  # the  mean favorite count of other dogs in a given simulation\n",
    "    dogs_fc.append(dog_fc)  # storing mean favorite count of other dogs\n",
    "    puppos_fc.append(puppo_fc)  # storing the mean favorite count of puppos\n",
    "    fc_diff.append(puppo_fc-dog_fc)  # storing the difference between favorite counts in each simulation"
   ]
  },
  {
   "cell_type": "markdown",
   "metadata": {},
   "source": [
    "#### Ploting the resulting arrays from the bootstraping process"
   ]
  },
  {
   "cell_type": "code",
   "execution_count": 125,
   "metadata": {},
   "outputs": [
    {
     "data": {
      "image/png": "[encoded data removed]",
      "text/plain": [
       "<matplotlib.figure.Figure at 0xb796850>"
      ]
     },
     "metadata": {},
     "output_type": "display_data"
    }
   ],
   "source": [
    "plt.hist(dogs_fc);"
   ]
  },
  {
   "cell_type": "code",
   "execution_count": 126,
   "metadata": {},
   "outputs": [
    {
     "data": {
      "image/png": "[encoded data removed]",
      "text/plain": [
       "<matplotlib.figure.Figure at 0xb944c10>"
      ]
     },
     "metadata": {},
     "output_type": "display_data"
    }
   ],
   "source": [
    "plt.hist(pd.Series(puppos_fc).dropna());"
   ]
  },
  {
   "cell_type": "code",
   "execution_count": 127,
   "metadata": {},
   "outputs": [
    {
     "data": {
      "image/png": "[encoded data removed]",
      "text/plain": [
       "<matplotlib.figure.Figure at 0xb8e3a90>"
      ]
     },
     "metadata": {},
     "output_type": "display_data"
    }
   ],
   "source": [
    "plt.hist(pd.Series(fc_diff).dropna());"
   ]
  },
  {
   "cell_type": "markdown",
   "metadata": {},
   "source": [
    "#### Testing our hypothesis"
   ]
  },
  {
   "cell_type": "code",
   "execution_count": 129,
   "metadata": {},
   "outputs": [
    {
     "name": "stderr",
     "output_type": "stream",
     "text": [
      "C:\\Users\\adrian.ciubotaru\\AppData\\Local\\Continuum\\Anaconda3\\envs\\ab_testing\\lib\\site-packages\\ipykernel\\__main__.py:4: RuntimeWarning: invalid value encountered in less\n"
     ]
    },
    {
     "data": {
      "text/plain": [
       "0.50700000000000001"
      ]
     },
     "execution_count": 129,
     "metadata": {},
     "output_type": "execute_result"
    }
   ],
   "source": [
    "sample_puppos_fc = sample_data[sample_data['puppo'] == 1]['favorite_count'].mean()\n",
    "sample_dogs_fc = sample_data[sample_data['puppo'] == 0]['favorite_count'].mean()\n",
    "sample_dif = sample_puppos_fc - sample_dogs_fc  # the observed difference in favorite count in the sample\n",
    "(fc_diff > sample_dif).mean()  # observing what proportion of differences are greater than the actual value from my sample"
   ]
  },
  {
   "cell_type": "markdown",
   "metadata": {},
   "source": [
    "# Conclusion"
   ]
  },
  {
   "cell_type": "markdown",
   "metadata": {},
   "source": [
    "Since our p-value is greater than 0.05 we fail to reject the null. This means that there is a great chance of having the difference observed in the sample by chance.<br>\n",
    "Unfortunately for puppo lovers, there is no evidence to conclude that they are more liked than other dogs."
   ]
  },
  {
   "cell_type": "code",
   "execution_count": null,
   "metadata": {
    "collapsed": true
   },
   "outputs": [],
   "source": []
  }
 ],
 "metadata": {
  "kernelspec": {
   "display_name": "Python [conda env:ab_testing]",
   "language": "python",
   "name": "conda-env-ab_testing-py"
  },
  "language_info": {
   "codemirror_mode": {
    "name": "ipython",
    "version": 3
   },
   "file_extension": ".py",
   "mimetype": "text/x-python",
   "name": "python",
   "nbconvert_exporter": "python",
   "pygments_lexer": "ipython3",
   "version": "3.6.1"
  }
 },
 "nbformat": 4,
 "nbformat_minor": 2
}
